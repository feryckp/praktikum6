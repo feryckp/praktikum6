{
  "nbformat": 4,
  "nbformat_minor": 0,
  "metadata": {
    "colab": {
      "provenance": [],
      "toc_visible": true,
      "authorship_tag": "ABX9TyPOhdqn4my75zb7VHx+0s+v",
      "include_colab_link": true
    },
    "kernelspec": {
      "name": "python3",
      "display_name": "Python 3"
    },
    "language_info": {
      "name": "python"
    }
  },
  "cells": [
    {
      "cell_type": "markdown",
      "metadata": {
        "id": "view-in-github",
        "colab_type": "text"
      },
      "source": [
        "<a href=\"https://colab.research.google.com/github/feryckp/praktikum6/blob/main/praktikum6_G_211_22_0129ipynb.ipynb\" target=\"_parent\"><img src=\"https://colab.research.google.com/assets/colab-badge.svg\" alt=\"Open In Colab\"/></a>"
      ]
    },
    {
      "cell_type": "code",
      "execution_count": 5,
      "metadata": {
        "id": "fo0nKM4cmBn0",
        "colab": {
          "base_uri": "https://localhost:8080/"
        },
        "outputId": "9a220d96-899a-48f6-ba0a-786aa696d993"
      },
      "outputs": [
        {
          "output_type": "stream",
          "name": "stdout",
          "text": [
            "deque(['Ram', 'Tarun', 'Asif', 'John'])\n",
            "deque(['Ram', 'Tarun', 'Asif', 'John', 'Akbar'])\n",
            "deque(['Ram', 'Tarun', 'Asif', 'John', 'Akbar', 'Birbal'])\n",
            "Ram\n",
            "Tarun\n",
            "deque(['Asif', 'John', 'Akbar', 'Birbal'])\n"
          ]
        }
      ],
      "source": [
        "from collections import deque\n",
        "queue = deque ([\"Ram\", \"Tarun\", \"Asif\", \"John\"])\n",
        "print (queue)\n",
        "queue.append(\"Akbar\")\n",
        "print (queue)\n",
        "queue.append(\"Birbal\")\n",
        "print (queue)\n",
        "print (queue.popleft())\n",
        "print (queue.popleft())\n",
        "print (queue)"
      ]
    },
    {
      "cell_type": "markdown",
      "source": [
        "# New Section"
      ],
      "metadata": {
        "id": "uHDQFXD3IOEw"
      }
    },
    {
      "cell_type": "code",
      "source": [
        "def TowerOfHanoi (n, dr, menuju, bantuan):\n",
        "    if n == 0:\n",
        "        return\n",
        "    TowerOfHanoi(n-1, dari, bantuan, menuju)\n",
        "    print (\"Pindah disk\", n, \"dari\", dr, \"ke\", menuju)\n",
        "    TowerOfHanoi (n-1, bantuan, dr, menuju)\n",
        "# Driver code\n",
        "N = 3\n",
        "# A, C, B are the name of rods TowerOfHanoi (N, 'A', 'C', 'B')"
      ],
      "metadata": {
        "id": "UjNGIpweoSyL"
      },
      "execution_count": 2,
      "outputs": []
    },
    {
      "cell_type": "code",
      "source": [
        "def sortStack (input):\n",
        "  tmpStack = []\n",
        "  while (len (input) > 0):\n",
        "\n",
        "    tmp = input[-1]\n",
        "    input.pop()\n",
        "\n",
        "    while (len(tmpStack) > 0 and tmpStack[-1] < tmp):\n",
        "      input.append(tmpStack[-1])\n",
        "      tmpStack.pop()\n",
        "  return tmpStack\n",
        "\n",
        "def sortArrayUsingStacks(arr, n):\n",
        "    input = []\n",
        "    i = 0\n",
        "    while (i < n ):\n",
        "        input.append(arr[i])\n",
        "        i = i + 1\n",
        "    tmpStack = sortStack(input)\n",
        "    i = 0\n",
        "\n",
        "    while (i < n):\n",
        "        arr[i] = tmpStack[-1]\n",
        "        tmpStack.pop()\n",
        "        i = i + 1\n",
        "\n",
        "        return arr\n",
        "\n",
        "        arr = [10, 5, 15, 45,]\n",
        "        n = len(arr)\n",
        "        arr = sortArrayUsingStacks(arr, n)\n",
        "        i = 0\n",
        "\n",
        "        while (i < n):\n",
        "          print (arr[i] ,end= \" \")\n",
        "          i = i + 1"
      ],
      "metadata": {
        "id": "LKWyFuhBpiZ6"
      },
      "execution_count": 4,
      "outputs": []
    }
  ]
}